{
 "cells": [
  {
   "cell_type": "markdown",
   "id": "b2bc30d9-54d5-4c54-93e4-bfd76ae186ab",
   "metadata": {},
   "source": [
    "# Slime Chunks\n",
    "\n",
    "Slime chunks are randomly-designated chunks in a Minecraft world that allow slimes to spawn below a certain Y level regardless of the light level."
   ]
  },
  {
   "cell_type": "markdown",
   "id": "b5dd5291-f02e-4d59-a009-1a34b1e5a36d",
   "metadata": {},
   "source": [
    "## Slime Chunk Info\n",
    "\n",
    "- Approximately 10% of all chunks in a world are recognized as slime chunks.\n",
    "- Slimes spawn at Y level 40 and below (highest full block = 38)\n",
    "- Light level does not inhibit spawning"
   ]
  },
  {
   "cell_type": "code",
   "execution_count": 1,
   "id": "9631d486-27b1-4c5e-b79d-717da7adebcd",
   "metadata": {},
   "outputs": [],
   "source": [
    "%load_ext cython"
   ]
  },
  {
   "cell_type": "code",
   "execution_count": 84,
   "id": "4e1f91a3-3d9a-45ed-823f-d28cb1796851",
   "metadata": {},
   "outputs": [],
   "source": [
    "%%cython\n",
    "import cython\n",
    "from javarand import Random\n",
    "\n",
    "# Determine if a chunk is a slime chunk given the world seed and chunk position\n",
    "def is_slime_chunk(world_seed: cython.longlong, chunk_x: cython.int, chunk_z: cython.int) -> cython.bint:\n",
    "    rand: Random\n",
    "    rand = Random(0x3ad8025f ^ (\n",
    "        world_seed\n",
    "        + (chunk_x*chunk_x*0x4c1906 + chunk_x*0x5ac0db)\n",
    "        + (chunk_z*chunk_z*0x4307a7 + chunk_z*0x5f24f)\n",
    "    ))\n",
    "    return rand.nextIntBounded(10) == 0"
   ]
  },
  {
   "cell_type": "code",
   "execution_count": 100,
   "id": "ada9f50f-132c-4c7c-996c-6881c8a9f4df",
   "metadata": {},
   "outputs": [
    {
     "data": {
      "text/plain": [
       "True"
      ]
     },
     "execution_count": 100,
     "metadata": {},
     "output_type": "execute_result"
    }
   ],
   "source": [
    "world_seed = 0\n",
    "chunk_x = -2\n",
    "chunk_z = -0\n",
    "\n",
    "is_slime_chunk(world_seed, chunk_x, chunk_z)"
   ]
  },
  {
   "cell_type": "markdown",
   "id": "6858ba6e-3403-4b1c-8e8b-06aeee1a7d7f",
   "metadata": {},
   "source": [
    "## Example\n",
    "\n",
    "The following example plots the slime chunks for the given world seed"
   ]
  },
  {
   "cell_type": "code",
   "execution_count": 105,
   "id": "09d2d871-b6b1-46c1-9145-7057754fcd5c",
   "metadata": {},
   "outputs": [],
   "source": [
    "import matplotlib.pyplot as plt\n",
    "import numpy as np"
   ]
  },
  {
   "cell_type": "code",
   "execution_count": 106,
   "id": "ebf4d7b8-e6ec-4ef9-b978-d92c575af08e",
   "metadata": {},
   "outputs": [],
   "source": [
    "world_seed = 0\n",
    "chunk_x_range = np.arange(-10, 10)\n",
    "chunk_z_range = np.arange(-10, 10)\n",
    "\n",
    "# Create 2D boolean array indicating slime chunks\n",
    "chunks = np.empty((len(chunk_x_range), len(chunk_z_range)), dtype=np.bool)\n",
    "for i, chunk_z in enumerate(chunk_z_range):\n",
    "    for j, chunk_x in enumerate(chunk_x_range):\n",
    "        chunks[i][j] = is_slime_chunk(world_seed, chunk_x, chunk_z)"
   ]
  },
  {
   "cell_type": "code",
   "execution_count": 107,
   "id": "ecc4a10d-41d3-4b76-8828-92aadf2dd9cc",
   "metadata": {},
   "outputs": [
    {
     "data": {
      "image/png": "[encoded data removed]",
      "text/plain": [
       "<Figure size 576x576 with 1 Axes>"
      ]
     },
     "metadata": {
      "needs_background": "light"
     },
     "output_type": "display_data"
    }
   ],
   "source": [
    "fig, ax = plt.subplots(figsize=(8,8))\n",
    "\n",
    "extent = [chunk_x_range[0], chunk_x_range[-1]+1, chunk_z_range[-1]+1, chunk_z_range[0]]\n",
    "color_map = colors.ListedColormap(['white', 'green'])\n",
    "\n",
    "ax.imshow(chunks, extent=extent, cmap=color_map)\n",
    "ax.grid()\n",
    "ax.set_xticks(chunk_x_range)\n",
    "ax.set_yticks(chunk_z_range)\n",
    "plt.show()"
   ]
  },
  {
   "cell_type": "code",
   "execution_count": null,
   "id": "717fc602-7308-4473-b03b-ed47758bb40a",
   "metadata": {},
   "outputs": [],
   "source": []
  }
 ],
 "metadata": {
  "kernelspec": {
   "display_name": "Python 3.9 (Tensorflow 2.5)",
   "language": "python",
   "name": "tf2.5"
  },
  "language_info": {
   "codemirror_mode": {
    "name": "ipython",
    "version": 3
   },
   "file_extension": ".py",
   "mimetype": "text/x-python",
   "name": "python",
   "nbconvert_exporter": "python",
   "pygments_lexer": "ipython3",
   "version": "3.9.6"
  }
 },
 "nbformat": 4,
 "nbformat_minor": 5
}
