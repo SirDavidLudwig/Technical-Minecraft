{
 "cells": [
  {
   "cell_type": "markdown",
   "id": "a4dfd4a7-5f23-48f0-b45c-5687fa5c188c",
   "metadata": {},
   "source": [
    "# Ore Generation"
   ]
  },
  {
   "cell_type": "code",
   "execution_count": 1,
   "id": "e4b42fb6-5f54-45b5-b3ce-7f58c5f20951",
   "metadata": {},
   "outputs": [],
   "source": [
    "%load_ext cython"
   ]
  },
  {
   "cell_type": "code",
   "execution_count": 2,
   "id": "b95795ae-053f-451d-b388-04b1db600d08",
   "metadata": {},
   "outputs": [],
   "source": [
    "%%cython\n",
    "from javarand cimport Random\n",
    "\n",
    "cdef class ChunkRandom(Random):\n",
    "    cdef public int sampleCount\n",
    "    \n",
    "    def __init__(self, seed=None):\n",
    "        super(ChunkRandom, self).__init__(seed)\n",
    "    \n",
    "    cpdef int getSampleCount(self):\n",
    "        return self.sampleCount\n",
    "    \n",
    "    cpdef int nextBits(self, int bits):\n",
    "        self.sampleCount += 1\n",
    "        return Random.nextBits(self, bits)\n",
    "    \n",
    "    cpdef long long setTerrainSeed(self, int chunkX, int chunkZ):\n",
    "        \"\"\"\n",
    "        * Seeds the randomizer to generate the surface terrain blocks (such as grass, sand, etc.)\n",
    "        * and the bedrock patterns.\n",
    "        * \n",
    "        * <p>Note that the terrain seed does not depend on the world seed and only gets affected by\n",
    "        * chunk coordinates.\n",
    "        \"\"\"\n",
    "        cdef long long l\n",
    "        l = <long long>chunkX * 341873128712L + <long long>chunkZ * 132897987541L\n",
    "        self.setSeed(l)\n",
    "        return l\n",
    "    \n",
    "    cpdef long long setPopulationSeed(self, long long worldSeed, int blockX, int blockZ):\n",
    "        \"\"\"\n",
    "        * Seeds the randomizer to create population features such as decorators and animals.\n",
    "        * \n",
    "        * <p>This method takes in the world seed and the negative-most block coordinates of the\n",
    "        * chunk. The coordinate pair provided is equivalent to (chunkX * 16, chunkZ * 16). The\n",
    "        * three values are mixed together through some layers of hashing to produce the\n",
    "        * population seed.\n",
    "        * \n",
    "        * <p>This function has been proved to be reversible through some exploitation of the underlying\n",
    "        * nextLong() weaknesses. It is also important to remember that since setSeed()\n",
    "        * truncates the 16 upper bits of world seed, only the 48 lowest bits affect the population\n",
    "        * seed output.\n",
    "        \"\"\"\n",
    "        cdef long long l, m, n\n",
    "        self.setSeed(worldSeed)\n",
    "        l = self.nextLong() | 1L\n",
    "        m = self.nextLong() | 1L\n",
    "        n = <long long> blockX*l + <long long>blockZ*m ^ worldSeed\n",
    "        self.setSeed(n)\n",
    "        return n\n",
    "    \n",
    "    cpdef long long setDecoratorSeed(self, long long populationSeed, int index, int step):\n",
    "        \"\"\"\n",
    "        * Seeds the randomizer to generate a given feature.\n",
    "        * \n",
    "        * The salt, in the form of {@code index + 10000 * step} assures that each feature is seeded\n",
    "        * differently, making the decoration feel more random. Even though it does a good job\n",
    "        * at doing so, many entropy issues arise from the salt being so small and result in\n",
    "        * weird alignments between features that have an index close apart.\n",
    "        * \n",
    "        * @param populationSeed the population seed computed in {@link #setPopulationSeed(long, int, int)}\n",
    "        * @param index the index of the feature in the feature list\n",
    "        * @param step the generation step's ordinal for this feature\n",
    "        \"\"\"\n",
    "        cdef long long l\n",
    "        l = populationSeed + <long long>index + <long long>(10000 * step)\n",
    "        self.setSeed(l)\n",
    "        return l\n",
    "    \n",
    "    cpdef setCarverSeed(self, long long worldSeed, int chunkX, int chunkZ):\n",
    "        \"\"\"\n",
    "        * Seeds the randomizer to generate larger features such as caves, ravines, mineshafts\n",
    "        * and strongholds. It is also used to initiate structure start behavior such as rotation.\n",
    "        * \n",
    "        * <p>Similar to the population seed, only the 48 lowest bits of the world seed affect the\n",
    "        * output since it the upper 16 bits are truncated in the setSeed() call.\n",
    "        \"\"\"\n",
    "        cdef long long l, m, n\n",
    "        self.setSeed(worldSeed)\n",
    "        l = self.nextLong()\n",
    "        m = self.nextLong()\n",
    "        n = <long long>chunkX*l ^ <long long>chunkZ*m ^ worldSeed\n",
    "        self.setSeed(n)\n",
    "        return n\n",
    "    \n",
    "    cpdef setDeepslateSeed(self, long long worldSeed, int x, int y, int z):\n",
    "        \"\"\"\n",
    "        * Seeds the randomizer to determine the start position of structure features such as\n",
    "        * temples, monuments and buried treasures within a region.\n",
    "        * \n",
    "        * <p>The region coordinates pair corresponds to the coordinates of the region the seeded\n",
    "        * chunk lies in. For example, a swamp hut region is 32 by 32 chunks meaning that all\n",
    "        * chunks that lie within that region get seeded the same way.\n",
    "        * \n",
    "        * <p>Similarly, the upper 16 bits of world seed also do not affect the region seed because\n",
    "        * they get truncated in the setSeed() call.\n",
    "        \"\"\"\n",
    "        cdef long long l, m, n, o\n",
    "        self.setSeed(worldSeed)\n",
    "        l = self.nextLong()\n",
    "        m = self.nextLong()\n",
    "        n = self.nextLong()\n",
    "        o = <long long>x*l ^ <long long>y*m ^ <long long>z*n ^ worldSeed\n",
    "        self.setSeed(o)\n",
    "        return o\n",
    "    \n",
    "    cpdef long long setRegionSeed(self, long long worldSeed, int regionX, int regionZ, int salt):\n",
    "        \"\"\"\n",
    "        * Seeds the randomizer to determine the start position of structure features such as\n",
    "        * temples, monuments and buried treasures within a region.\n",
    "        * \n",
    "        * <p>The region coordinates pair corresponds to the coordinates of the region the seeded\n",
    "        * chunk lies in. For example, a swamp hut region is 32 by 32 chunks meaning that all\n",
    "        * chunks that lie within that region get seeded the same way.\n",
    "        * \n",
    "        * <p>Similarly, the upper 16 bits of world seed also do not affect the region seed because\n",
    "        * they get truncated in the setSeed() call.\n",
    "        \"\"\"\n",
    "        cdef long long l\n",
    "        l = <long long>regionX * 341873128712L + <long long>regionZ * 132897987541L + worldSeed + <long long>salt\n",
    "        self.setSeed(l)\n",
    "        return l"
   ]
  },
  {
   "cell_type": "code",
   "execution_count": 5,
   "id": "c62027ec-ac15-4b55-b1d6-98c229318fe7",
   "metadata": {},
   "outputs": [],
   "source": [
    "cr = ChunkRandom()"
   ]
  },
  {
   "cell_type": "code",
   "execution_count": 4,
   "id": "6813c851-27c0-49c7-802c-91bf3aa9f20b",
   "metadata": {},
   "outputs": [
    {
     "data": {
      "text/plain": [
       "1771864441"
      ]
     },
     "execution_count": 4,
     "metadata": {},
     "output_type": "execute_result"
    }
   ],
   "source": [
    "cr.nextInt()"
   ]
  },
  {
   "cell_type": "code",
   "execution_count": 12,
   "id": "022de032-d686-4a5f-994b-6e545592815b",
   "metadata": {},
   "outputs": [
    {
     "data": {
      "text/plain": [
       "4512464663123802022"
      ]
     },
     "execution_count": 12,
     "metadata": {},
     "output_type": "execute_result"
    }
   ],
   "source": [
    "m = cr.setPopulationSeed(1564490463684939830, -23*16, -16*16)\n",
    "m"
   ]
  },
  {
   "cell_type": "code",
   "execution_count": 13,
   "id": "a7fd2205-d6cc-4678-a77f-31f845827ac3",
   "metadata": {},
   "outputs": [
    {
     "data": {
      "text/plain": [
       "4512464663123862036"
      ]
     },
     "execution_count": 13,
     "metadata": {},
     "output_type": "execute_result"
    }
   ],
   "source": [
    "cr.setDecoratorSeed(m, 14, 6)"
   ]
  },
  {
   "cell_type": "code",
   "execution_count": null,
   "id": "aff7e480-8427-477c-946f-520f2e110b7a",
   "metadata": {},
   "outputs": [],
   "source": []
  }
 ],
 "metadata": {
  "kernelspec": {
   "display_name": "Python 3.9 (Tensorflow 2.5)",
   "language": "python",
   "name": "tf2.5"
  },
  "language_info": {
   "codemirror_mode": {
    "name": "ipython",
    "version": 3
   },
   "file_extension": ".py",
   "mimetype": "text/x-python",
   "name": "python",
   "nbconvert_exporter": "python",
   "pygments_lexer": "ipython3",
   "version": "3.9.6"
  }
 },
 "nbformat": 4,
 "nbformat_minor": 5
}
