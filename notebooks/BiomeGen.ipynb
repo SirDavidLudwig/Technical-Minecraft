{
 "cells": [
  {
   "cell_type": "markdown",
   "id": "587472dc-f0ea-4e68-ae81-f9674ede78f3",
   "metadata": {},
   "source": [
    "# Biome Generation"
   ]
  },
  {
   "cell_type": "code",
   "execution_count": 2,
   "id": "35f0607b-e6f9-4424-86a0-637bd079414f",
   "metadata": {},
   "outputs": [],
   "source": [
    "%load_ext cython"
   ]
  },
  {
   "cell_type": "code",
   "execution_count": 7,
   "id": "1f530c78-76cb-406b-999e-23008acbaa81",
   "metadata": {},
   "outputs": [],
   "source": [
    "from javarand import Random\n",
    "from minecraft.util.worldgenrandom import WorldGenRandom\n",
    "from minecraft.noise.interpolatednoisesampler import InterpolatedNoiseSampler"
   ]
  },
  {
   "cell_type": "code",
   "execution_count": 4,
   "id": "4f0b6cbb-910b-4b3d-8efa-c3a4caf79b19",
   "metadata": {},
   "outputs": [
    {
     "name": "stdout",
     "output_type": "stream",
     "text": [
      "(-531978972, -756897637, -790825346) (0.17543547866517673, 0.2796635778539145, 0.28603469270340687, 0.3401013167282865) -10.594116810314272\n",
      "(1828273198, 296407783, 1391718141) (0.9161408242102145, 0.7735675570088513, 0.6848862039270882, 0.27398219295494863) -58.41987278952756\n",
      "(-17954640, -1566660743, 1992057549) (0.08045619176698116, 0.1779283627630741, 0.2693067578657208, 0.39599423676352596) 34.61488756600809\n",
      "(1726872722, -874154428, -1422985770) (0.502578442459321, 0.035340922423361176, 0.30410225647034406, 0.3886991049333388) 27.71310989985008\n",
      "(-1508247799, -1521158321, 1094045277) (0.26904415482765764, 0.30471917040690943, 0.048843367556137385, 0.4113793339279983) -11.981908555873705\n",
      "(-1027613479, -1292558389, 2099550563) (0.122660329745784, 0.23900730903359613, 0.3672218287800568, 0.6438435873889994) -15.079593183755097\n",
      "(815405273, 1032022283, 915609819) (0.8289951643791774, 0.2400137788739074, 0.6804459332358107, 0.29054383023760477) 25.761881401474056\n",
      "(117139030, 1693975287, -1232948558) (0.9077932482751011, 0.36125538264345936, 0.2068017614267309, 0.9040889556039382) -48.23982434955556\n",
      "(370730098, 614734274, 1400149446) (0.4876663045218912, 0.8952573606478206, 0.1825641148649647, 0.758858754696469) 36.40878276145159\n",
      "(416512045, -1340057899, 1002174385) (0.2996387515197291, 0.9031283608726495, 0.5477958197324124, 0.40671410041047373) -53.910077363896704\n"
     ]
    }
   ],
   "source": [
    "r = WorldGenRandom(5)\n",
    "sampler = InterpolatedNoiseSampler(r)\n",
    "\n",
    "for i in range(10):\n",
    "    x = r.nextInt()\n",
    "    y = r.nextInt()\n",
    "    z = r.nextInt()\n",
    "    \n",
    "    s1 = r.nextDouble()\n",
    "    s2 = r.nextDouble()\n",
    "    s3 = r.nextDouble()\n",
    "    s4 = r.nextDouble()\n",
    "    \n",
    "    result = sampler.sample(x, y, z, s1, s2, s3, s4)\n",
    "    \n",
    "    print((x, y, z), (s1, s2, s3, s4), result)"
   ]
  },
  {
   "cell_type": "code",
   "execution_count": 24,
   "id": "d19501cd-81e6-4a8b-baae-d32f3ff9076a",
   "metadata": {},
   "outputs": [
    {
     "data": {
      "text/plain": [
       "(0, 63, 0)"
      ]
     },
     "execution_count": 24,
     "metadata": {},
     "output_type": "execute_result"
    }
   ],
   "source": [
    "noiseGen = Random(5)\n",
    "def getBiomeForNoiseGen(x, y, z):\n",
    "    return noiseGen.nextIntBounded(4)\n",
    "def locateBiome(x, y, z, radius, searchGap, predicate, random, nearest):\n",
    "\tbiomeX = x//4\n",
    "\tbiomeY = y//4\n",
    "\tbiomeZ = z//4\n",
    "\tbiomeRadius = radius//4\n",
    "\tresult = None\n",
    "\tn = 0\n",
    "\tstart = 0 if nearest else biomeRadius\n",
    "\tfor searchDistance in range(start, biomeRadius+1, searchGap):\n",
    "\t\tfor dz in range(-searchDistance, searchDistance+1, searchGap):\n",
    "\t\t\tfor dx in range(-searchDistance, searchDistance+1, searchGap):\n",
    "\t\t\t\tif nearest and abs(dz) != searchDistance and abs(dx) != searchDistance:\n",
    "\t\t\t\t\tcontinue\n",
    "\t\t\t\tresultX = x+dx\n",
    "\t\t\t\tresultZ = z+dz\n",
    "\t\t\t\tif predicate(getBiomeForNoiseGen(resultX, biomeY, resultZ)):\n",
    "\t\t\t\t\tif result is None or random.nextIntBounded(n+1) == 0:\n",
    "\t\t\t\t\t\tresult = (biomeX*4, y, biomeZ*4)\n",
    "\t\t\t\t\t\tif nearest:\n",
    "\t\t\t\t\t\t\treturn result\n",
    "\t\t\t\t\tn += 1\n",
    "\treturn result\n",
    "\n",
    "locateBiome(0, 63, 0, 20, 1, lambda biome: biome == 0, Random(5), False)\n",
    "\n"
   ]
  },
  {
   "cell_type": "code",
   "execution_count": 1,
   "id": "92a9372d-1f32-4797-9e4a-7e830314cd1d",
   "metadata": {},
   "outputs": [
    {
     "name": "stderr",
     "output_type": "stream",
     "text": [
      "UsageError: Cell magic `%%cython` not found.\n"
     ]
    }
   ],
   "source": [
    "%%cython\n",
    "    \n",
    "    \n",
    "cdef class PointClosure:\n",
    "    cpdef float apply(self, point):\n",
    "        return 5.0\n",
    "    \n",
    "    \n",
    "cdef class SplineConstant(PointClosure):\n",
    "    cdef float value\n",
    "    def __init__(self, float value):\n",
    "        self.value = value\n",
    "        \n",
    "    cpdef float apply(self, point):\n",
    "        return self.value\n",
    "    \n",
    "a = PointClosure()\n",
    "b = SplineConstant(25)\n",
    "\n",
    "print(a.apply(None))\n",
    "print(b.apply(None))"
   ]
  },
  {
   "cell_type": "code",
   "execution_count": 1,
   "id": "e39cd362-a19e-45ff-912a-3969bfaed13d",
   "metadata": {},
   "outputs": [],
   "source": [
    "from minecraft.gen.spline import SplineConstant\n",
    "from minecraft.gen.terrainshaper import *"
   ]
  },
  {
   "cell_type": "code",
   "execution_count": 15,
   "id": "6ef12a0b-790d-49ff-9b68-98393efa7395",
   "metadata": {},
   "outputs": [
    {
     "name": "stdout",
     "output_type": "stream",
     "text": [
      "25.0\n"
     ]
    }
   ],
   "source": [
    "%%cython\n",
    "\n",
    "# ctypedef float (*float_func_t)(object c)\n",
    "\n",
    "cdef test_closure = lambda obj: 25.0\n",
    "\n",
    "def test_func(closure):\n",
    "    return closure(None)\n",
    "\n",
    "print(test_func(test_closure))\n",
    "\n",
    "\n",
    "    "
   ]
  },
  {
   "cell_type": "code",
   "execution_count": null,
   "id": "5150b58f-fdb0-4daf-ba92-b4266c5c0c04",
   "metadata": {},
   "outputs": [],
   "source": []
  }
 ],
 "metadata": {
  "kernelspec": {
   "display_name": "Python 3.9 (Tensorflow 2.5)",
   "language": "python",
   "name": "tf2.5"
  },
  "language_info": {
   "codemirror_mode": {
    "name": "ipython",
    "version": 3
   },
   "file_extension": ".py",
   "mimetype": "text/x-python",
   "name": "python",
   "nbconvert_exporter": "python",
   "pygments_lexer": "ipython3",
   "version": "3.9.6"
  }
 },
 "nbformat": 4,
 "nbformat_minor": 5
}
